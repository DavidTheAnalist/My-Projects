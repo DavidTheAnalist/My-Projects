{
 "cells": [
  {
   "cell_type": "markdown",
   "id": "1f9e9c18-aaf8-4aa3-aaab-f2cf03c9694e",
   "metadata": {},
   "source": [
    "BMI Calculator"
   ]
  },
  {
   "cell_type": "code",
   "execution_count": 36,
   "id": "d381f437-ec81-498d-8d0e-df2e395c8e83",
   "metadata": {},
   "outputs": [
    {
     "name": "stdin",
     "output_type": "stream",
     "text": [
      "Enter your name David\n",
      "Enter your weight in pounds:  164\n",
      "Enter your height in inches:  69\n"
     ]
    },
    {
     "name": "stdout",
     "output_type": "stream",
     "text": [
      "24.21592102499475\n",
      "David, you are normal weight. Keep it up.\n"
     ]
    }
   ],
   "source": [
    "name = input('Enter your name')\n",
    "weight = int(input('Enter your weight in pounds: '))\n",
    "\n",
    "height = int(input('Enter your height in inches: '))\n",
    "\n",
    "BMI = (weight * 703) / (height * height)\n",
    "print(BMI)\n",
    "\n",
    "if BMI>0:\n",
    "    if(BMI<18.5):\n",
    "        print(name + \", you are underweight.\")\n",
    "    elif (BMI<=24.9):\n",
    "        print(name + \", you are normal weight. Keep it up.\")\n",
    "    elif(BMI<29.9):\n",
    "        print(name + \", you are overweight.\")\n",
    "    elif (BMI<34.9):\n",
    "        print(name + \", you are obese.\")\n",
    "    elif(BMI<39.9):\n",
    "        print(name + \", you are severely obese.\")\n",
    "    else:\n",
    "        print(name + \", you are morbidly obese.\")\n",
    "else:\n",
    "    print(\"Enter a valid input\")"
   ]
  },
  {
   "cell_type": "code",
   "execution_count": 22,
   "id": "c4792468-15bc-471a-a93e-7d4fb7fcc423",
   "metadata": {},
   "outputs": [
    {
     "name": "stdout",
     "output_type": "stream",
     "text": [
      "24.21592102499475\n"
     ]
    }
   ],
   "source": [
    "print(BMI)"
   ]
  },
  {
   "cell_type": "code",
   "execution_count": 19,
   "id": "7ca28273-7e64-4b00-98e1-0126d4179ace",
   "metadata": {},
   "outputs": [
    {
     "data": {
      "text/plain": [
       "str"
      ]
     },
     "execution_count": 19,
     "metadata": {},
     "output_type": "execute_result"
    }
   ],
   "source": [
    "type(weight)"
   ]
  },
  {
   "cell_type": "code",
   "execution_count": null,
   "id": "103feb94-c2dc-4126-aec0-e37af1a7c553",
   "metadata": {},
   "outputs": [],
   "source": []
  },
  {
   "cell_type": "code",
   "execution_count": null,
   "id": "f073139e-43c6-471e-8f0b-6b832626a695",
   "metadata": {},
   "outputs": [],
   "source": []
  },
  {
   "cell_type": "code",
   "execution_count": null,
   "id": "d5600957-90c9-4823-97b2-7ee5214a70d0",
   "metadata": {},
   "outputs": [],
   "source": [
    "#BMI = (weight in pounds * 703) / (height in inches * height in inches)"
   ]
  },
  {
   "cell_type": "code",
   "execution_count": null,
   "id": "e2acd16e-35ee-4fc7-98e7-5c7240530f2d",
   "metadata": {},
   "outputs": [],
   "source": [
    "Under 18.5-->Underweight-Minimal\n",
    "18.5 - 24.9->Normal Weight-Minimal\n",
    "25 - 29.9--->Overweight-->Increased\n",
    "30 - 34.9--->Obese-->High\n",
    "35 - 39.9--->Severely Obese-->Very High\n",
    "40 and over->Morbidly Obese-->Extremely High"
   ]
  },
  {
   "cell_type": "code",
   "execution_count": 34,
   "id": "ec062552-f3c3-414c-8cdc-b0d3c4e0ef0e",
   "metadata": {},
   "outputs": [
    {
     "name": "stdout",
     "output_type": "stream",
     "text": [
      "David, you are normal weight. Keep it up.\n"
     ]
    }
   ],
   "source": [
    "if BMI>0:\n",
    "    if(BMI<18.5):\n",
    "        print(name + \", you are underweight.\")\n",
    "    elif (BMI<=24.9):\n",
    "        print(name + \", you are normal weight. Keep it up.\")\n",
    "    elif(BMI<29.9):\n",
    "        print(name + \", you are overweight.\")\n",
    "    elif (BMI<34.9):\n",
    "        print(name + \", you are obese.\")\n",
    "    elif(BMI<39.9):\n",
    "        print(name + \", you are severely obese.\")\n",
    "    else:\n",
    "        print(name + \", you are morbidly obese.\")\n",
    "else:\n",
    "    print(\"Enter a valid input\")"
   ]
  },
  {
   "cell_type": "code",
   "execution_count": null,
   "id": "a71f3770-29c5-458f-b84e-0b680e04e849",
   "metadata": {},
   "outputs": [],
   "source": []
  },
  {
   "cell_type": "code",
   "execution_count": null,
   "id": "edc2252a-0741-46d0-8857-9390ae29c196",
   "metadata": {},
   "outputs": [],
   "source": []
  },
  {
   "cell_type": "code",
   "execution_count": null,
   "id": "2e42e18e-eab5-421c-b34a-02795dffb631",
   "metadata": {},
   "outputs": [],
   "source": []
  },
  {
   "cell_type": "code",
   "execution_count": null,
   "id": "02c4f49e-6a81-4f82-b171-bf05380cbc65",
   "metadata": {},
   "outputs": [],
   "source": []
  },
  {
   "cell_type": "code",
   "execution_count": null,
   "id": "50a537f3-6b36-4c66-b8f4-15913358e7a3",
   "metadata": {},
   "outputs": [],
   "source": []
  },
  {
   "cell_type": "code",
   "execution_count": null,
   "id": "7fb34dd6-31a1-4a91-a4bd-37984d8b35a6",
   "metadata": {},
   "outputs": [],
   "source": []
  },
  {
   "cell_type": "code",
   "execution_count": null,
   "id": "5d5ed252-b051-4866-8332-8563cc9c27a9",
   "metadata": {},
   "outputs": [],
   "source": []
  },
  {
   "cell_type": "code",
   "execution_count": null,
   "id": "1fa13ffc-e8b8-4b72-a628-974ab69a607c",
   "metadata": {},
   "outputs": [],
   "source": []
  },
  {
   "cell_type": "code",
   "execution_count": null,
   "id": "8f3db7f6-b3af-4b28-b7d2-e4e1842e1ab0",
   "metadata": {},
   "outputs": [],
   "source": []
  },
  {
   "cell_type": "code",
   "execution_count": null,
   "id": "791b774b-49e6-4766-98cf-a4d8c9e510ed",
   "metadata": {},
   "outputs": [],
   "source": []
  },
  {
   "cell_type": "code",
   "execution_count": null,
   "id": "7e51e58c-afb0-403b-983c-23cb3732e326",
   "metadata": {},
   "outputs": [],
   "source": []
  },
  {
   "cell_type": "code",
   "execution_count": null,
   "id": "e5665cef-be23-497f-8090-9ef583b958c7",
   "metadata": {},
   "outputs": [],
   "source": []
  },
  {
   "cell_type": "code",
   "execution_count": null,
   "id": "3a636465-6a11-4f59-ac2b-02953a58ee38",
   "metadata": {},
   "outputs": [],
   "source": []
  },
  {
   "cell_type": "code",
   "execution_count": null,
   "id": "13213ce8-161e-40fd-bc14-4391a3388701",
   "metadata": {},
   "outputs": [],
   "source": []
  },
  {
   "cell_type": "code",
   "execution_count": null,
   "id": "bdebbe4e-73c3-4976-ab55-d67574b78e26",
   "metadata": {},
   "outputs": [],
   "source": []
  },
  {
   "cell_type": "code",
   "execution_count": null,
   "id": "04690e65-e8e7-45c6-a5d9-eaa1844290ce",
   "metadata": {},
   "outputs": [],
   "source": []
  },
  {
   "cell_type": "code",
   "execution_count": null,
   "id": "820c014b-f003-478d-9479-f7ad114a09e4",
   "metadata": {},
   "outputs": [],
   "source": []
  },
  {
   "cell_type": "code",
   "execution_count": null,
   "id": "260dfa27-f672-4959-a995-8ab2fc9b871a",
   "metadata": {},
   "outputs": [],
   "source": []
  },
  {
   "cell_type": "code",
   "execution_count": null,
   "id": "6af6504b-1e1c-49a5-92c2-a20a9f100a65",
   "metadata": {},
   "outputs": [],
   "source": []
  },
  {
   "cell_type": "code",
   "execution_count": null,
   "id": "564e31e3-45c8-4a58-8f23-774db7656b4c",
   "metadata": {},
   "outputs": [],
   "source": []
  },
  {
   "cell_type": "code",
   "execution_count": null,
   "id": "f48aaf5e-cc68-4262-a91e-04d122efc54b",
   "metadata": {},
   "outputs": [],
   "source": []
  },
  {
   "cell_type": "code",
   "execution_count": null,
   "id": "b8da8efa-658c-4586-93d6-2632a888d32d",
   "metadata": {},
   "outputs": [],
   "source": []
  },
  {
   "cell_type": "code",
   "execution_count": null,
   "id": "f580fbbb-674e-4135-bc7a-38c0fbfe1cbb",
   "metadata": {},
   "outputs": [],
   "source": []
  },
  {
   "cell_type": "code",
   "execution_count": null,
   "id": "54d746eb-e90f-48e6-b784-6d00c9b113d8",
   "metadata": {},
   "outputs": [],
   "source": []
  },
  {
   "cell_type": "code",
   "execution_count": null,
   "id": "04262574-4708-4129-9bf3-296c979fd9ee",
   "metadata": {},
   "outputs": [],
   "source": []
  },
  {
   "cell_type": "code",
   "execution_count": null,
   "id": "3535dc1a-ae2d-4220-98cd-779afe0e6bc6",
   "metadata": {},
   "outputs": [],
   "source": []
  },
  {
   "cell_type": "code",
   "execution_count": null,
   "id": "42430c29-4a4f-4dcc-b2a0-199b086ca55a",
   "metadata": {},
   "outputs": [],
   "source": []
  },
  {
   "cell_type": "code",
   "execution_count": null,
   "id": "2bdbd9fd-f933-4105-9eb5-a6bcf29ba27e",
   "metadata": {},
   "outputs": [],
   "source": []
  },
  {
   "cell_type": "code",
   "execution_count": null,
   "id": "f6a20d7b-7f1f-47c8-89b1-61d3f5ca02f8",
   "metadata": {},
   "outputs": [],
   "source": []
  },
  {
   "cell_type": "code",
   "execution_count": null,
   "id": "c4636e40-c578-41ac-aee7-a54d84d4abd9",
   "metadata": {},
   "outputs": [],
   "source": []
  },
  {
   "cell_type": "code",
   "execution_count": null,
   "id": "f9f549c2-b9c8-4430-ba31-f1004a1244af",
   "metadata": {},
   "outputs": [],
   "source": []
  },
  {
   "cell_type": "code",
   "execution_count": null,
   "id": "166e0b5d-0c34-439b-938c-39e675ecd281",
   "metadata": {},
   "outputs": [],
   "source": []
  },
  {
   "cell_type": "code",
   "execution_count": null,
   "id": "0e0f725c-dfee-42a6-a43a-40d4f7194c36",
   "metadata": {},
   "outputs": [],
   "source": []
  },
  {
   "cell_type": "code",
   "execution_count": null,
   "id": "16c33d4d-028d-4669-becf-844ac51a4bcf",
   "metadata": {},
   "outputs": [],
   "source": []
  },
  {
   "cell_type": "code",
   "execution_count": null,
   "id": "8fe155cd-b63a-496a-baa2-d740d0ba0a7e",
   "metadata": {},
   "outputs": [],
   "source": []
  },
  {
   "cell_type": "code",
   "execution_count": null,
   "id": "a365efad-5700-4c0e-8cea-823a0b18a80b",
   "metadata": {},
   "outputs": [],
   "source": []
  },
  {
   "cell_type": "code",
   "execution_count": null,
   "id": "9470ca21-4b99-40e7-add9-8e6ee283ede5",
   "metadata": {},
   "outputs": [],
   "source": []
  },
  {
   "cell_type": "code",
   "execution_count": null,
   "id": "a827466a-7b36-4df3-8ae6-e33880ffcc8e",
   "metadata": {},
   "outputs": [],
   "source": []
  },
  {
   "cell_type": "code",
   "execution_count": null,
   "id": "d903ecd1-1562-402a-b262-462f5e7a6b7d",
   "metadata": {},
   "outputs": [],
   "source": []
  },
  {
   "cell_type": "code",
   "execution_count": null,
   "id": "3944a058-5133-45f4-a5c1-b9ad62e3466d",
   "metadata": {},
   "outputs": [],
   "source": []
  },
  {
   "cell_type": "code",
   "execution_count": null,
   "id": "aff43c00-5e73-4447-b3c1-70865f285b3e",
   "metadata": {},
   "outputs": [],
   "source": []
  },
  {
   "cell_type": "code",
   "execution_count": null,
   "id": "96bb1b2d-2e9d-4c05-a075-2086aeb09506",
   "metadata": {},
   "outputs": [],
   "source": []
  },
  {
   "cell_type": "code",
   "execution_count": null,
   "id": "563dceda-ca02-4218-99d2-b72a05285c28",
   "metadata": {},
   "outputs": [],
   "source": []
  },
  {
   "cell_type": "markdown",
   "id": "bb900c0f-366a-4bc2-8452-7e4b2ce24541",
   "metadata": {},
   "source": []
  }
 ],
 "metadata": {
  "kernelspec": {
   "display_name": "Python 3 (ipykernel)",
   "language": "python",
   "name": "python3"
  },
  "language_info": {
   "codemirror_mode": {
    "name": "ipython",
    "version": 3
   },
   "file_extension": ".py",
   "mimetype": "text/x-python",
   "name": "python",
   "nbconvert_exporter": "python",
   "pygments_lexer": "ipython3",
   "version": "3.12.4"
  }
 },
 "nbformat": 4,
 "nbformat_minor": 5
}
